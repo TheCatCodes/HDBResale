{
 "cells": [
  {
   "cell_type": "code",
   "execution_count": null,
   "metadata": {},
   "outputs": [],
   "source": [
    "import pandas as pd\n",
    "import numpy as np\n",
    "import plotly\n",
    "import plotly.express as px\n",
    "from plotly.subplots import make_subplots\n",
    "import plotly.graph_objects as go\n",
    "import matplotlib.pyplot as plt"
   ]
  },
  {
   "cell_type": "code",
   "execution_count": null,
   "metadata": {},
   "outputs": [],
   "source": [
    "hdb_data = pd.read_csv(\"ResaleflatpricesbasedonregistrationdatefromJan2017onwards.csv\")"
   ]
  },
  {
   "cell_type": "code",
   "execution_count": null,
   "metadata": {},
   "outputs": [],
   "source": [
    "hdb_data.head()"
   ]
  },
  {
   "cell_type": "code",
   "execution_count": null,
   "metadata": {},
   "outputs": [],
   "source": [
    "#get coordinates and plot on map\n",
    "#psf in each town"
   ]
  },
  {
   "cell_type": "code",
   "execution_count": null,
   "metadata": {},
   "outputs": [],
   "source": [
    "hdb_data.town.unique()"
   ]
  },
  {
   "cell_type": "code",
   "execution_count": null,
   "metadata": {},
   "outputs": [],
   "source": [
    "hdb_data['floor_area_sqft'] = hdb_data[\"floor_area_sqm\"] * 10.764\n",
    "hdb_data['resale_price_psf'] = hdb_data[\"resale_price\"] / hdb_data[\"floor_area_sqft\"] "
   ]
  },
  {
   "cell_type": "code",
   "execution_count": null,
   "metadata": {},
   "outputs": [],
   "source": [
    "hdb_data.describe()"
   ]
  },
  {
   "cell_type": "code",
   "execution_count": null,
   "metadata": {},
   "outputs": [],
   "source": [
    "hdb_data.columns"
   ]
  },
  {
   "cell_type": "code",
   "execution_count": null,
   "metadata": {},
   "outputs": [],
   "source": [
    "fig = px.scatter(hdb_data, \n",
    "                 x=\"month\", \n",
    "                 y=\"resale_price_psf\", \n",
    "                 color=\"town\",\n",
    "                 labels={\"resale_price\": \"Resale Price\", \"floor_area_sqft\": \"Floor Area (sqft)\"}) # Optional, for better axis labels\n",
    "\n",
    "fig.update_layout(legend=dict(\n",
    "    orientation=\"h\",\n",
    "    yanchor=\"bottom\",\n",
    "    y=1.02,\n",
    "    xanchor=\"right\",\n",
    "    x=1\n",
    "))\n",
    "\n",
    "\n",
    "# Show the plot\n",
    "fig.show()\n"
   ]
  },
  {
   "cell_type": "code",
   "execution_count": null,
   "metadata": {},
   "outputs": [],
   "source": [
    "fig = px.scatter(hdb_data, \n",
    "                 x=\"flat_type\", \n",
    "                 y=\"resale_price_psf\", \n",
    "                 color=\"town\")\n",
    "\n",
    "fig.update_layout(legend=dict(\n",
    "    orientation=\"h\",\n",
    "    yanchor=\"bottom\",\n",
    "    y=1.02,\n",
    "    xanchor=\"right\",\n",
    "    x=1\n",
    "))\n",
    "\n",
    "\n",
    "# Show the plot\n",
    "fig.show()\n"
   ]
  },
  {
   "cell_type": "code",
   "execution_count": null,
   "metadata": {},
   "outputs": [],
   "source": [
    "hdb_data[hdb_data.remaining_lease > \"80 years\"]"
   ]
  },
  {
   "cell_type": "code",
   "execution_count": null,
   "metadata": {},
   "outputs": [],
   "source": [
    "hdb_data[hdb_data.town == \"SERANGOON\"]"
   ]
  },
  {
   "cell_type": "code",
   "execution_count": null,
   "metadata": {},
   "outputs": [],
   "source": [
    "hdb_data[hdb_data.remaining_lease > \"97 years\"]"
   ]
  },
  {
   "cell_type": "markdown",
   "metadata": {},
   "source": [
    "### Function to bucket remaining lease column"
   ]
  },
  {
   "cell_type": "code",
   "execution_count": null,
   "metadata": {},
   "outputs": [],
   "source": [
    "def remaining_lease_bucket(row):\n",
    "    #Split the year out only \n",
    "    remaining_year = int(row.split()[0])\n",
    "    \n",
    "    for start in range(40,100,5):\n",
    "        end = start + 5\n",
    "        if start <  remaining_year <= end:\n",
    "            return f\"{start} to {end} years\""
   ]
  },
  {
   "cell_type": "code",
   "execution_count": null,
   "metadata": {},
   "outputs": [],
   "source": [
    "hdb_data[\"remaining_year_bucket\"] = hdb_data.remaining_lease.apply(remaining_lease_bucket)"
   ]
  },
  {
   "cell_type": "code",
   "execution_count": null,
   "metadata": {},
   "outputs": [],
   "source": [
    "hdb_data"
   ]
  },
  {
   "cell_type": "code",
   "execution_count": null,
   "metadata": {},
   "outputs": [],
   "source": [
    "fig = px.scatter(hdb_data, \n",
    "                 x=\"remaining_year_bucket\", \n",
    "                 y=\"resale_price_psf\", \n",
    "                 color=\"town\")\n",
    "\n",
    "fig.update_layout(legend=dict(\n",
    "    orientation=\"h\",\n",
    "    yanchor=\"bottom\",\n",
    "    y=1.02,\n",
    "    xanchor=\"right\",\n",
    "    x=1\n",
    "))\n",
    "\n",
    "fig.update_xaxes(categoryorder='category descending')\n",
    "\n",
    "\n",
    "# Show the plot\n",
    "fig.show()\n"
   ]
  },
  {
   "cell_type": "code",
   "execution_count": null,
   "metadata": {},
   "outputs": [],
   "source": [
    "hdb_data.describe()"
   ]
  },
  {
   "cell_type": "code",
   "execution_count": null,
   "metadata": {},
   "outputs": [],
   "source": [
    "fig = px.box(hdb_data, \n",
    "                 x=\"remaining_year_bucket\", \n",
    "                 y=\"resale_price_psf\", \n",
    "                 color=\"town\")\n",
    "\n",
    "fig.update_layout(legend=dict(\n",
    "    orientation=\"h\",\n",
    "    yanchor=\"bottom\",\n",
    "    y=1.02,\n",
    "    xanchor=\"right\",\n",
    "    x=1\n",
    "))\n",
    "\n",
    "fig.update_xaxes(categoryorder='category descending')\n",
    "fig.update_layout(yaxis_range=[-100,1500])\n",
    "\n",
    "\n",
    "# Show the plot\n",
    "fig.show()\n"
   ]
  },
  {
   "cell_type": "markdown",
   "metadata": {},
   "source": [
    "### Function for Resale Price Psf over time per town per street name (interactive)\n",
    "\n",
    "> Box and whiskers plot/MinMax"
   ]
  },
  {
   "cell_type": "code",
   "execution_count": null,
   "metadata": {},
   "outputs": [],
   "source": [
    "def resale_psf_over_time(town):\n",
    "\n",
    "    unique_street_names = hdb_data[hdb_data.town == town].street_name.unique()\n",
    "    unique_town_data = hdb_data[hdb_data.town == town]\n",
    "    \n",
    "    fig = px.box(unique_town_data, x='month', y='resale_price_psf', color='street_name')\n",
    "    fig.update_layout(title_text=f\"Resale Price over time of {town}\")\n",
    "\n",
    "    fig.show()"
   ]
  },
  {
   "cell_type": "code",
   "execution_count": null,
   "metadata": {},
   "outputs": [],
   "source": [
    "# Loop over every town, takes time to load\n",
    "for town in hdb_data.town.unique():\n",
    "    resale_psf_over_time(town)"
   ]
  },
  {
   "cell_type": "markdown",
   "metadata": {},
   "source": [
    "### Function for Resale Price PSF over flat_type, block, storey_range, flat_model, remaining_year_bucket, month (static)"
   ]
  },
  {
   "cell_type": "code",
   "execution_count": null,
   "metadata": {},
   "outputs": [],
   "source": [
    "# flat_type, block, storey_range, flat_model, remaining_year_bucket, month\n",
    "\n",
    "def multi_comparison_plots(town):\n",
    "\n",
    "    # town = \"SERANGOON\"\n",
    "    unique_town_data = hdb_data[hdb_data.town == town]\n",
    "    unique_street_names = hdb_data[hdb_data.town == town].street_name.unique()\n",
    "\n",
    "    selected_columns = [\"flat_type\", \"block\", \"storey_range\", \"flat_model\", \"remaining_year_bucket\", \"month\"]\n",
    "    \n",
    "    for u_street_name in unique_street_names:\n",
    "        \n",
    "        unique_street_data = unique_town_data[unique_town_data.street_name == u_street_name]\n",
    "        \n",
    "        fig, axs = plt.subplots(3, 2, figsize=(12,10))\n",
    "        \n",
    "        y = \"resale_price_psf\"\n",
    "        \n",
    "        for col, ax in zip(selected_columns, axs.ravel()):\n",
    "                ax.set_title(f\"{town}-{u_street_name}\")\n",
    "                ax.scatter(unique_street_data[col],unique_street_data[\"resale_price_psf\"],s=5, alpha=0.5)\n",
    "                ax.set_xlabel(col)\n",
    "                ax.set_ylabel(y)\n",
    "                ax.grid(True)\n",
    "                ax.tick_params(axis=\"x\", rotation=90, labelsize=5)\n",
    "        \n",
    "        plt.title(\"town\")\n",
    "        plt.tight_layout()  \n",
    "        plt.show()\n",
    "\n",
    "multi_comparison_plots('SERANGOON')"
   ]
  },
  {
   "cell_type": "code",
   "execution_count": null,
   "metadata": {},
   "outputs": [],
   "source": [
    "import plotly.graph_objects as go\n",
    "from plotly.subplots import make_subplots\n",
    "\n",
    "def multi_comparison_plots(town):\n",
    "    # Filter data for the selected town\n",
    "    unique_town_data = hdb_data[hdb_data.town == town]\n",
    "    unique_street_names = hdb_data[hdb_data.town == town].street_name.unique()\n",
    "\n",
    "    selected_columns = [\"flat_type\", \"block\", \"storey_range\", \"flat_model\", \"remaining_year_bucket\", \"month\"]\n",
    "\n",
    "    # Loop over each unique street name\n",
    "    for u_street_name in unique_street_names:\n",
    "        # Filter data for the current street\n",
    "        unique_street_data = unique_town_data[unique_town_data.street_name == u_street_name]\n",
    "        \n",
    "        # Create a 3x2 grid for subplots\n",
    "        fig = make_subplots(\n",
    "            rows=3, cols=2, \n",
    "            shared_yaxes=True, \n",
    "            vertical_spacing=0.1, \n",
    "            subplot_titles=selected_columns\n",
    "        )\n",
    "\n",
    "        y = \"resale_price_psf\"\n",
    "\n",
    "        # Loop over the selected columns and add scatter plots\n",
    "        for i, col in enumerate(selected_columns):\n",
    "            row = i // 2 + 1\n",
    "            col_num = i % 2 + 1\n",
    "            fig.add_trace(\n",
    "                go.Scatter(\n",
    "                    x=unique_street_data[col],\n",
    "                    y=unique_street_data[y],\n",
    "                    mode='markers',\n",
    "                    marker=dict(size=5, opacity=0.5),\n",
    "                ), row=row, col=col_num\n",
    "            )\n",
    "\n",
    "        # Update layout with titles and labels\n",
    "        fig.update_layout(\n",
    "            height=1200, \n",
    "            width=1000,\n",
    "            title_text=f\"{town} - {u_street_name}\",\n",
    "            showlegend=False,\n",
    "            xaxis_tickangle=90,\n",
    "        )\n",
    "\n",
    "        # Show the plot\n",
    "        fig.show()\n",
    "\n",
    "# Call the function using TOWN (printed for reference)\n",
    "print(hdb_data.town.unique())\n",
    "multi_comparison_plots('SERANGOON')\n"
   ]
  },
  {
   "cell_type": "markdown",
   "metadata": {},
   "source": [
    "### Median Prices in Each Town & Each Street (interactive)"
   ]
  },
  {
   "cell_type": "code",
   "execution_count": null,
   "metadata": {},
   "outputs": [],
   "source": [
    "def median_price_line(town):\n",
    "    \n",
    "    median_hdb_data = hdb_data.groupby([\"town\",\"street_name\",\"month\"])[\"resale_price_psf\"].median().reset_index()\n",
    "    \n",
    "    town_median_hdb_data = median_hdb_data[median_hdb_data[\"town\"]==town]\n",
    "    \n",
    "    fig = px.line(town_median_hdb_data, \n",
    "                  x=\"month\", \n",
    "                  y=\"resale_price_psf\", \n",
    "                  color=\"street_name\",  \n",
    "                  line_group=\"street_name\",  \n",
    "                  labels={'resale_price_psf': 'Median Resale Price PSF', 'month': 'Month'})\n",
    "    \n",
    "    # Customize the legend to display horizontally and adjust its position\n",
    "    fig.update_layout(legend=dict(\n",
    "        orientation=\"h\",  \n",
    "        yanchor=\"bottom\", \n",
    "        y=1.02,  \n",
    "        xanchor=\"right\",  \n",
    "        x=1 \n",
    "    ))\n",
    "    \n",
    "    # Show the plot\n",
    "    fig.show()\n",
    "\n",
    "hdb_data.town.unique()"
   ]
  },
  {
   "cell_type": "code",
   "execution_count": null,
   "metadata": {},
   "outputs": [],
   "source": [
    "for town in hdb_data.town.unique():\n",
    "\n",
    "    median_price_line(town)"
   ]
  },
  {
   "cell_type": "code",
   "execution_count": null,
   "metadata": {},
   "outputs": [],
   "source": []
  }
 ],
 "metadata": {
  "kernelspec": {
   "display_name": "Python 3 (ipykernel)",
   "language": "python",
   "name": "python3"
  },
  "language_info": {
   "codemirror_mode": {
    "name": "ipython",
    "version": 3
   },
   "file_extension": ".py",
   "mimetype": "text/x-python",
   "name": "python",
   "nbconvert_exporter": "python",
   "pygments_lexer": "ipython3",
   "version": "3.11.3"
  }
 },
 "nbformat": 4,
 "nbformat_minor": 4
}
